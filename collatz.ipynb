{
 "cells": [
  {
   "cell_type": "markdown",
   "id": "b574d928",
   "metadata": {},
   "source": [
    "Practice Program Collatz"
   ]
  },
  {
   "cell_type": "code",
   "execution_count": 20,
   "id": "2c2ff187",
   "metadata": {},
   "outputs": [
    {
     "name": "stdout",
     "output_type": "stream",
     "text": [
      "Please use integers only.\n",
      "Please use integers only.\n",
      "28\n",
      "14\n",
      "7\n",
      "22\n",
      "11\n",
      "34\n",
      "17\n",
      "52\n",
      "26\n",
      "13\n",
      "40\n",
      "20\n",
      "10\n",
      "5\n",
      "16\n",
      "8\n",
      "4\n",
      "2\n",
      "1\n"
     ]
    }
   ],
   "source": [
    "def collatz(number):\n",
    "    \n",
    "    \n",
    "    while number != 1:\n",
    "        if number % 2 == 0:\n",
    "            number = number // 2\n",
    "            print(number)\n",
    "\n",
    "        elif number % 2 == 1:\n",
    "            number = number * 3 + 1\n",
    "            print(number)          \n",
    "    \n",
    "\n",
    "while True:\n",
    "    try:\n",
    "        my_number = int(input(\"Please input an integer.\"))\n",
    "        collatz(my_number)\n",
    "    except ValueError:\n",
    "        print('Please use integers only.')\n",
    "    else:\n",
    "        break\n",
    "\n",
    "\n",
    "    \n"
   ]
  }
 ],
 "metadata": {
  "kernelspec": {
   "display_name": "Python 3",
   "language": "python",
   "name": "python3"
  },
  "language_info": {
   "codemirror_mode": {
    "name": "ipython",
    "version": 3
   },
   "file_extension": ".py",
   "mimetype": "text/x-python",
   "name": "python",
   "nbconvert_exporter": "python",
   "pygments_lexer": "ipython3",
   "version": "3.13.2"
  }
 },
 "nbformat": 4,
 "nbformat_minor": 5
}
